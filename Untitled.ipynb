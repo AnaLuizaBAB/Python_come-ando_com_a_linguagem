{
 "cells": [
  {
   "cell_type": "code",
   "execution_count": null,
   "id": "b2102cfe-6449-49c6-a3cb-361e7b008cad",
   "metadata": {},
   "outputs": [],
   "source": [
    "print (\"Bem vindo ao jogo da adivinhação.\")"
   ]
  },
  {
   "cell_type": "markdown",
   "id": "fcf8cd87",
   "metadata": {},
   "source": [
    "É importante lembrar que o **input** nos devolve um dado do **tipo string**. \n",
    "\n",
    "Então para fazer as comparações será necessário transformar esse dado para o tipo inteiro. Caso contrário mesmo que acertem o numero secreto o programa retornará \"Resposta errada.\" já que estaríamos comparando um dado do tipo string com um dado do tipo int."
   ]
  },
  {
   "cell_type": "code",
   "execution_count": null,
   "id": "237c99a5",
   "metadata": {},
   "outputs": [],
   "source": [
    "numero_secreto = 43\n",
    "\n",
    "chute = int(input (\"Informe o número inteiro positivo: \"))\n",
    "\n",
    "print(f\"Você digitou o número {chute}.\")"
   ]
  },
  {
   "cell_type": "code",
   "execution_count": null,
   "id": "028df93c",
   "metadata": {},
   "outputs": [],
   "source": [
    "if (chute == numero_secreto):\n",
    "    print(\"Parabéns resposta Certa!\")\n",
    "else:\n",
    "    print(\"Resposta errada.\")"
   ]
  },
  {
   "cell_type": "markdown",
   "id": "b5ce2303",
   "metadata": {},
   "source": [
    "#### Testes"
   ]
  },
  {
   "cell_type": "code",
   "execution_count": null,
   "id": "86fa5872",
   "metadata": {},
   "outputs": [],
   "source": [
    "numero1 = 10\n",
    "numero2 = \"20\"\n",
    "soma = numero1 + numero2"
   ]
  },
  {
   "cell_type": "markdown",
   "id": "0b62d3b3",
   "metadata": {},
   "source": [
    "O código acima deu erro porque tentamos somar um inteiro com uma string. E no python isso não é possível."
   ]
  },
  {
   "cell_type": "code",
   "execution_count": null,
   "id": "22ce13c5",
   "metadata": {},
   "outputs": [],
   "source": [
    "numero1 = 10\n",
    "numero2 = \"20\"\n",
    "produto = numero1 * numero2\n",
    "print(produto)"
   ]
  },
  {
   "cell_type": "markdown",
   "id": "8cd88346",
   "metadata": {},
   "source": [
    "Note que no caso acima o python não executou a multiplicação (10 x 20 = 200). Ele nos devolveu o número 20 dez vezes.\n",
    "\n",
    "Agora, na célula a baixo iremos pegar tudo o que já escrevemos de código eadicionar a uma informação ao usuário. Se ele chutou um número maior que o número secreto, ou ele digitou um número menor que o número secreto?"
   ]
  },
  {
   "cell_type": "code",
   "execution_count": null,
   "id": "2357c379",
   "metadata": {},
   "outputs": [],
   "source": [
    "print(\"\\n\\n\")\n",
    "print (\"Bem vindo ao jogo da adivinhação.\")\n",
    "print(\"\\n\\n\")\n",
    "\n",
    "numero_secreto = 43\n",
    "chute = int(input (\"Informe o número inteiro positivo: \"))\n",
    "\n",
    "print(f\"\\n\\nVocê digitou o número {chute}. \\n\")\n",
    "\n",
    "if (chute == numero_secreto):\n",
    "    print(\"Parabéns, resposta Certa! \\n\")\n",
    "elif (chute < numero_secreto):\n",
    "    print(\"Resposta errada.\\nO número a ser adivinhado é maior! \\n\")\n",
    "else:\n",
    "    print (\"Resposta errada.\\nO número a ser adivinhado é menor!\\n\")"
   ]
  },
  {
   "cell_type": "markdown",
   "id": "271f3947",
   "metadata": {},
   "source": [
    "Vamos implementar uma determinada quantidade de tentativas que o jogador pode usar para adivinhar o número secreto. Para isso usaremos o While."
   ]
  },
  {
   "cell_type": "code",
   "execution_count": null,
   "id": "bbbcf958",
   "metadata": {},
   "outputs": [],
   "source": [
    "print (\"Bem vindo ao jogo da adivinhação.\")\n",
    "\n",
    "numero_secreto = 43\n",
    "numero_de_tentativas = 1\n",
    "\n",
    "while(numero_de_tentativas < 4):\n",
    "\n",
    "    print(f\"***Tentativa número {numero_de_tentativas} de 3***\")\n",
    "    chute = int(input (\"Por favor informe o número inteiro positivo: \"))\n",
    "    print(f\"\\nVocê digitou o número {chute}. \\n\")\n",
    "    \n",
    "    if (chute == numero_secreto):\n",
    "        print(\"Parabéns, resposta Certa! \\n\")\n",
    "    elif (chute < numero_secreto):\n",
    "        print(\"Resposta errada.\\nO número a ser adivinhado é maior! \\n\")\n",
    "    else:\n",
    "        print (\"Resposta errada.\\nO número a ser adivinhado é menor!\\n\")\n",
    "    \n",
    "    numero_de_tentativas += 1\n",
    "\n",
    "print(\"\\nFim de Jogo.\")"
   ]
  },
  {
   "cell_type": "markdown",
   "id": "790a17cc",
   "metadata": {},
   "source": [
    "Note que no código da célula acima mesmo que acertem o número secreto na primeira tentativa o programa continua rodando. Vamos resolver esse problema na célula seguinte, fazendo uso do Break.\n",
    "\n",
    "O \"break\" faz o programa sair do loop."
   ]
  },
  {
   "cell_type": "code",
   "execution_count": null,
   "id": "2ad571d9",
   "metadata": {},
   "outputs": [],
   "source": [
    "print (\"Bem vindo ao jogo da adivinhação.\")\n",
    "\n",
    "numero_secreto = 43\n",
    "numero_de_tentativas = 1\n",
    "\n",
    "while(numero_de_tentativas < 4):\n",
    "\n",
    "    print(f\"***Tentativa número {numero_de_tentativas} de 3***\")\n",
    "    chute = int(input (\"Por favor informe o número inteiro positivo: \"))\n",
    "    print(f\"\\nVocê digitou o número {chute}. \\n\")\n",
    "    \n",
    "    if (chute == numero_secreto):\n",
    "        print(\"Parabéns, resposta Certa! \\n\")\n",
    "        break\n",
    "    elif (chute < numero_secreto):\n",
    "        print(\"Resposta errada.\\nO número a ser adivinhado é maior!\")\n",
    "    else:\n",
    "        print (\"Resposta errada.\\nO número a ser adivinhado é menor!\")\n",
    "    \n",
    "    numero_de_tentativas += 1\n",
    "\n",
    "print(\"\\nFim de Jogo.\")"
   ]
  },
  {
   "cell_type": "markdown",
   "id": "08533dc5",
   "metadata": {},
   "source": [
    "Função range()\n",
    "\n",
    "- range (x)       --> vai até o (x-1)\n",
    "- range(x,y)      --> inicia no x e termina no (y-1)\n",
    "- range (x,y,z)   --> inicia no x vai \"pulando\" z números (o próximo número seria (x+z)) e termina no máximo no número z\n",
    "\n",
    "como nos 3 exemplos a baixo:"
   ]
  },
  {
   "cell_type": "code",
   "execution_count": 2,
   "id": "726543fa",
   "metadata": {},
   "outputs": [
    {
     "name": "stdout",
     "output_type": "stream",
     "text": [
      "0\n",
      "1\n",
      "2\n",
      "3\n",
      "4\n",
      "5\n",
      "6\n",
      "7\n",
      "8\n",
      "9\n"
     ]
    }
   ],
   "source": [
    "for x in range (10):\n",
    "    print (x)"
   ]
  },
  {
   "cell_type": "code",
   "execution_count": 3,
   "id": "1866ac0a",
   "metadata": {},
   "outputs": [
    {
     "name": "stdout",
     "output_type": "stream",
     "text": [
      "1\n",
      "2\n",
      "3\n",
      "4\n",
      "5\n",
      "6\n",
      "7\n",
      "8\n",
      "9\n"
     ]
    }
   ],
   "source": [
    "for y in range (1, 10):\n",
    "    print (y)"
   ]
  },
  {
   "cell_type": "code",
   "execution_count": 4,
   "id": "863224fe",
   "metadata": {},
   "outputs": [
    {
     "name": "stdout",
     "output_type": "stream",
     "text": [
      "0\n",
      "2\n",
      "4\n",
      "6\n",
      "8\n"
     ]
    }
   ],
   "source": [
    "for z in range (0, 10, 2):\n",
    "    print(z)"
   ]
  },
  {
   "cell_type": "markdown",
   "id": "0cf98927",
   "metadata": {},
   "source": [
    "Agora iremos impor a condição ao usuário que o número informado deve ser um número de 1 a 300."
   ]
  },
  {
   "cell_type": "code",
   "execution_count": 2,
   "id": "7b51c835",
   "metadata": {},
   "outputs": [
    {
     "name": "stdout",
     "output_type": "stream",
     "text": [
      "Bem vindo ao jogo da adivinhação.\n",
      "***Tentativa número 1 de 3***\n",
      "\n",
      "Você digitou o número -9. \n",
      "\n",
      "Número inválido. Por favor informe um número de 1 a 300.\n",
      "***Tentativa número 1 de 3***\n",
      "\n",
      "Você digitou o número 600. \n",
      "\n",
      "Número inválido. Por favor informe um número de 1 a 300.\n",
      "***Tentativa número 1 de 3***\n",
      "\n",
      "Você digitou o número 43. \n",
      "\n",
      "Parabéns, resposta Certa! \n",
      "\n",
      "\n",
      "Fim de Jogo.\n"
     ]
    }
   ],
   "source": [
    "print (\"Bem vindo ao jogo da adivinhação.\")\n",
    "\n",
    "numero_secreto = 43\n",
    "numero_de_tentativas = 1\n",
    "\n",
    "while(numero_de_tentativas < 4):\n",
    "\n",
    "    print(f\"***Tentativa número {numero_de_tentativas} de 3***\")\n",
    "    chute = int(input (\"Por favor informe o número de 1 a 300 \"))\n",
    "    print(f\"\\nVocê digitou o número {chute}. \\n\")\n",
    "\n",
    "    if ( chute < 1 or chute >300):\n",
    "        print (\"Número inválido. Por favor informe um número de 1 a 300.\")\n",
    "    elif (chute == numero_secreto):\n",
    "        print(\"Parabéns, resposta Certa! \\n\")\n",
    "        break\n",
    "    elif (chute < numero_secreto):\n",
    "        print(\"Resposta errada.\\nO número a ser adivinhado é maior!\")\n",
    "    else:\n",
    "        print (\"Resposta errada.\\nO número a ser adivinhado é menor!\")\n",
    "    \n",
    "    numero_de_tentativas += 1\n",
    "\n",
    "print(\"\\nFim de Jogo.\")"
   ]
  },
  {
   "cell_type": "markdown",
   "id": "ec24a7cb",
   "metadata": {},
   "source": [
    "Note que no exemplo acima quando o usuário usa um número que não está entre 0 e 301 é contada como uma tentativa, apesar do numeros serem inválidos (como mostra o exeplo na célula acima). Para mudarmos isso podemos usar comando continue.\n",
    "\n",
    "O \"continue\" faz o programa voltar ao início do loop."
   ]
  },
  {
   "cell_type": "code",
   "execution_count": 3,
   "id": "e35d8c9d",
   "metadata": {},
   "outputs": [
    {
     "name": "stdout",
     "output_type": "stream",
     "text": [
      "Bem vindo ao jogo da adivinhação.\n",
      "***Tentativa número 1 de 3***\n",
      "\n",
      "Você digitou o número 901. \n",
      "\n",
      "Número inválido. Por favor informe um número de 1 a 300.\n",
      "***Tentativa número 1 de 3***\n",
      "\n",
      "Você digitou o número 1000. \n",
      "\n",
      "Número inválido. Por favor informe um número de 1 a 300.\n",
      "***Tentativa número 1 de 3***\n",
      "\n",
      "Você digitou o número 8. \n",
      "\n",
      "Resposta errada.\n",
      "O número a ser adivinhado é maior!\n",
      "***Tentativa número 2 de 3***\n",
      "\n",
      "Você digitou o número -56. \n",
      "\n",
      "Número inválido. Por favor informe um número de 1 a 300.\n",
      "***Tentativa número 2 de 3***\n",
      "\n",
      "Você digitou o número 0. \n",
      "\n",
      "Número inválido. Por favor informe um número de 1 a 300.\n",
      "***Tentativa número 2 de 3***\n",
      "\n",
      "Você digitou o número 43. \n",
      "\n",
      "Parabéns, resposta Certa! \n",
      "\n",
      "\n",
      "Fim de Jogo.\n"
     ]
    }
   ],
   "source": [
    "print (\"Bem vindo ao jogo da adivinhação.\")\n",
    "\n",
    "numero_secreto = 43\n",
    "numero_de_tentativas = 1\n",
    "\n",
    "while(numero_de_tentativas < 4):\n",
    "\n",
    "    print(f\"***Tentativa número {numero_de_tentativas} de 3***\")\n",
    "    chute = int(input (\"Por favor informe o número de 1 a 300 \"))\n",
    "    print(f\"\\nVocê digitou o número {chute}. \\n\")\n",
    "\n",
    "    if ( chute < 1 or chute >300):\n",
    "        print (\"Número inválido. Por favor informe um número de 1 a 300.\")\n",
    "        continue\n",
    "    elif (chute == numero_secreto):\n",
    "        print(\"Parabéns, resposta Certa! \\n\")\n",
    "        break\n",
    "    elif (chute < numero_secreto):\n",
    "        print(\"Resposta errada.\\nO número a ser adivinhado é maior!\")\n",
    "    else:\n",
    "        print (\"Resposta errada.\\nO número a ser adivinhado é menor!\")\n",
    "    \n",
    "    numero_de_tentativas += 1\n",
    "\n",
    "print(\"\\nFim de Jogo.\")"
   ]
  },
  {
   "cell_type": "code",
   "execution_count": null,
   "id": "7f86d4f4",
   "metadata": {},
   "outputs": [],
   "source": []
  }
 ],
 "metadata": {
  "kernelspec": {
   "display_name": "Python 3 (ipykernel)",
   "language": "python",
   "name": "python3"
  },
  "language_info": {
   "codemirror_mode": {
    "name": "ipython",
    "version": 3
   },
   "file_extension": ".py",
   "mimetype": "text/x-python",
   "name": "python",
   "nbconvert_exporter": "python",
   "pygments_lexer": "ipython3",
   "version": "3.11.3"
  }
 },
 "nbformat": 4,
 "nbformat_minor": 5
}
