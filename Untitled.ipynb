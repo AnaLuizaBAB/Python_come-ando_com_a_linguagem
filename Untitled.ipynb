{
 "cells": [
  {
   "cell_type": "code",
   "execution_count": null,
   "id": "b2102cfe-6449-49c6-a3cb-361e7b008cad",
   "metadata": {},
   "outputs": [],
   "source": [
    "print (\"Bem vindo ao jogo da adivinhação.\")"
   ]
  },
  {
   "cell_type": "markdown",
   "id": "fcf8cd87",
   "metadata": {},
   "source": [
    "É importante lembrar que o **input** nos devolve um dado do **tipo string**. \n",
    "\n",
    "Então para fazer as comparações será necessário transformar esse dado para o tipo inteiro. Caso contrário mesmo que acertem o numero secreto o programa retornará \"Resposta errada.\" já que estaríamos comparando um dado do tipo string com um dado do tipo int."
   ]
  },
  {
   "cell_type": "code",
   "execution_count": null,
   "id": "237c99a5",
   "metadata": {},
   "outputs": [],
   "source": [
    "numero_secreto = 43\n",
    "\n",
    "chute = int(input (\"Informe o número inteiro positivo: \"))\n",
    "\n",
    "print(f\"Você digitou o número {chute}.\")"
   ]
  },
  {
   "cell_type": "code",
   "execution_count": null,
   "id": "028df93c",
   "metadata": {},
   "outputs": [],
   "source": [
    "if (chute == numero_secreto):\n",
    "    print(\"Parabéns resposta Certa!\")\n",
    "else:\n",
    "    print(\"Resposta errada.\")"
   ]
  },
  {
   "cell_type": "markdown",
   "id": "b5ce2303",
   "metadata": {},
   "source": [
    "#### Testes"
   ]
  },
  {
   "cell_type": "code",
   "execution_count": null,
   "id": "86fa5872",
   "metadata": {},
   "outputs": [],
   "source": [
    "numero1 = 10\n",
    "numero2 = \"20\"\n",
    "soma = numero1 + numero2"
   ]
  },
  {
   "cell_type": "markdown",
   "id": "0b62d3b3",
   "metadata": {},
   "source": [
    "O código acima deu erro porque tentamos somar um inteiro com uma string. E no python isso não é possível."
   ]
  },
  {
   "cell_type": "code",
   "execution_count": null,
   "id": "22ce13c5",
   "metadata": {},
   "outputs": [],
   "source": [
    "numero1 = 10\n",
    "numero2 = \"20\"\n",
    "produto = numero1 * numero2\n",
    "print(produto)"
   ]
  },
  {
   "cell_type": "markdown",
   "id": "8cd88346",
   "metadata": {},
   "source": [
    "Note que no caso acima o python não executou a multiplicação (10 x 20 = 200). Ele nos devolveu o número 20 dez vezes.\n",
    "\n",
    "Agora, na célula a baixo iremos pegar tudo o que já escrevemos de código eadicionar a uma informação ao usuário. Se ele chutou um número maior que o número secreto, ou ele digitou um número menor que o número secreto?"
   ]
  },
  {
   "cell_type": "code",
   "execution_count": null,
   "id": "2357c379",
   "metadata": {},
   "outputs": [],
   "source": [
    "print(\"\\n\\n\")\n",
    "print (\"Bem vindo ao jogo da adivinhação.\")\n",
    "print(\"\\n\\n\")\n",
    "\n",
    "numero_secreto = 43\n",
    "chute = int(input (\"Informe o número inteiro positivo: \"))\n",
    "\n",
    "print(f\"\\n\\nVocê digitou o número {chute}. \\n\")\n",
    "\n",
    "if (chute == numero_secreto):\n",
    "    print(\"Parabéns, resposta Certa! \\n\")\n",
    "elif (chute < numero_secreto):\n",
    "    print(\"Resposta errada.\\nO número a ser adivinhado é maior! \\n\")\n",
    "else:\n",
    "    print (\"Resposta errada.\\nO número a ser adivinhado é menor!\\n\")"
   ]
  },
  {
   "cell_type": "markdown",
   "id": "271f3947",
   "metadata": {},
   "source": [
    "Vamos implementar uma determinada quantidade de tentativas que o jogador pode usar para adivinhar o número secreto. Para isso usaremos o While."
   ]
  },
  {
   "cell_type": "code",
   "execution_count": null,
   "id": "bbbcf958",
   "metadata": {},
   "outputs": [],
   "source": [
    "print (\"Bem vindo ao jogo da adivinhação.\")\n",
    "\n",
    "numero_secreto = 43\n",
    "numero_de_tentativas = 1\n",
    "\n",
    "while(numero_de_tentativas < 4):\n",
    "\n",
    "    print(f\"***Tentativa número {numero_de_tentativas} de 3***\")\n",
    "    chute = int(input (\"Por favor informe o número inteiro positivo: \"))\n",
    "    print(f\"\\nVocê digitou o número {chute}. \\n\")\n",
    "    \n",
    "    if (chute == numero_secreto):\n",
    "        print(\"Parabéns, resposta Certa! \\n\")\n",
    "    elif (chute < numero_secreto):\n",
    "        print(\"Resposta errada.\\nO número a ser adivinhado é maior! \\n\")\n",
    "    else:\n",
    "        print (\"Resposta errada.\\nO número a ser adivinhado é menor!\\n\")\n",
    "    \n",
    "    numero_de_tentativas += 1\n",
    "\n",
    "print(\"\\nFim de Jogo.\")"
   ]
  },
  {
   "cell_type": "markdown",
   "id": "790a17cc",
   "metadata": {},
   "source": [
    "Note que no código da célula acima mesmo que acertem o número secreto na primeira tentativa o programa continua rodando. Vamos resolver esse problema na célula seguinte, fazendo uso do Break.\n",
    "\n",
    "O \"break\" faz o programa sair do loop."
   ]
  },
  {
   "cell_type": "code",
   "execution_count": null,
   "id": "2ad571d9",
   "metadata": {},
   "outputs": [],
   "source": [
    "print (\"Bem vindo ao jogo da adivinhação.\")\n",
    "\n",
    "numero_secreto = 43\n",
    "numero_de_tentativas = 1\n",
    "\n",
    "while(numero_de_tentativas < 4):\n",
    "\n",
    "    print(f\"***Tentativa número {numero_de_tentativas} de 3***\")\n",
    "    chute = int(input (\"Por favor informe o número inteiro positivo: \"))\n",
    "    print(f\"\\nVocê digitou o número {chute}. \\n\")\n",
    "    \n",
    "    if (chute == numero_secreto):\n",
    "        print(\"Parabéns, resposta Certa! \\n\")\n",
    "        break\n",
    "    elif (chute < numero_secreto):\n",
    "        print(\"Resposta errada.\\nO número a ser adivinhado é maior!\")\n",
    "    else:\n",
    "        print (\"Resposta errada.\\nO número a ser adivinhado é menor!\")\n",
    "    \n",
    "    numero_de_tentativas += 1\n",
    "\n",
    "print(\"\\nFim de Jogo.\")"
   ]
  },
  {
   "cell_type": "markdown",
   "id": "08533dc5",
   "metadata": {},
   "source": [
    "Função range()\n",
    "\n",
    "- range (x)       --> vai até o (x-1)\n",
    "- range(x,y)      --> inicia no x e termina no (y-1)\n",
    "- range (x,y,z)   --> inicia no x vai \"pulando\" z números (o próximo número seria (x+z)) e termina no máximo no número z\n",
    "\n",
    "como nos 3 exemplos a baixo:"
   ]
  },
  {
   "cell_type": "code",
   "execution_count": null,
   "id": "726543fa",
   "metadata": {},
   "outputs": [],
   "source": [
    "for x in range (10):\n",
    "    print (x)"
   ]
  },
  {
   "cell_type": "code",
   "execution_count": null,
   "id": "1866ac0a",
   "metadata": {},
   "outputs": [],
   "source": [
    "for y in range (1, 10):\n",
    "    print (y)"
   ]
  },
  {
   "cell_type": "code",
   "execution_count": null,
   "id": "863224fe",
   "metadata": {},
   "outputs": [],
   "source": [
    "for z in range (0, 10, 2):\n",
    "    print(z)"
   ]
  },
  {
   "cell_type": "markdown",
   "id": "0cf98927",
   "metadata": {},
   "source": [
    "Agora iremos impor a condição ao usuário que o número informado deve ser um número de 1 a 300."
   ]
  },
  {
   "cell_type": "code",
   "execution_count": null,
   "id": "7b51c835",
   "metadata": {},
   "outputs": [],
   "source": [
    "print (\"Bem vindo ao jogo da adivinhação.\")\n",
    "\n",
    "numero_secreto = 43\n",
    "numero_de_tentativas = 1\n",
    "\n",
    "while(numero_de_tentativas < 4):\n",
    "\n",
    "    print(f\"***Tentativa número {numero_de_tentativas} de 3***\")\n",
    "    chute = int(input (\"Por favor informe o número de 1 a 300 \"))\n",
    "    print(f\"\\nVocê digitou o número {chute}. \\n\")\n",
    "\n",
    "    if ( chute < 1 or chute >300):\n",
    "        print (\"Número inválido. Por favor informe um número de 1 a 300.\")\n",
    "    elif (chute == numero_secreto):\n",
    "        print(\"Parabéns, resposta Certa! \\n\")\n",
    "        break\n",
    "    elif (chute < numero_secreto):\n",
    "        print(\"Resposta errada.\\nO número a ser adivinhado é maior!\")\n",
    "    else:\n",
    "        print (\"Resposta errada.\\nO número a ser adivinhado é menor!\")\n",
    "    \n",
    "    numero_de_tentativas += 1\n",
    "\n",
    "print(\"\\nFim de Jogo.\")"
   ]
  },
  {
   "cell_type": "markdown",
   "id": "ec24a7cb",
   "metadata": {},
   "source": [
    "Note que no exemplo acima quando o usuário usa um número que não está entre 0 e 301 é contada como uma tentativa, apesar do numeros serem inválidos (como mostra o exeplo na célula acima). Para mudarmos isso podemos usar comando continue.\n",
    "\n",
    "O \"continue\" faz o programa voltar ao início do loop."
   ]
  },
  {
   "cell_type": "code",
   "execution_count": null,
   "id": "e35d8c9d",
   "metadata": {},
   "outputs": [],
   "source": [
    "print (\"Bem vindo ao jogo da adivinhação.\")\n",
    "\n",
    "numero_secreto = 43\n",
    "numero_de_tentativas = 1\n",
    "\n",
    "while(numero_de_tentativas < 4):\n",
    "\n",
    "    print(f\"***Tentativa número {numero_de_tentativas} de 3***\")\n",
    "    chute = int(input (\"Por favor informe o número de 1 a 300 \"))\n",
    "    print(f\"\\nVocê digitou o número {chute}. \\n\")\n",
    "\n",
    "    if ( chute < 1 or chute >300):\n",
    "        print (\"Número inválido. Por favor informe um número de 1 a 300.\")\n",
    "        continue\n",
    "    elif (chute == numero_secreto):\n",
    "        print(\"Parabéns, resposta Certa! \\n\")\n",
    "        break\n",
    "    elif (chute < numero_secreto):\n",
    "        print(\"Resposta errada.\\nO número a ser adivinhado é maior!\")\n",
    "    else:\n",
    "        print (\"Resposta errada.\\nO número a ser adivinhado é menor!\")\n",
    "    \n",
    "    numero_de_tentativas += 1\n",
    "\n",
    "print(\"\\nFim de Jogo.\")"
   ]
  },
  {
   "cell_type": "markdown",
   "id": "ea91901a",
   "metadata": {},
   "source": [
    "Aprendendo a gerar números aleatórios através do módulo random. Não esqueça que para usá-la será necessário fazer a importação do módulo random.\n",
    "\n",
    "obs: fornece números de 0.0 e 1.0!!"
   ]
  },
  {
   "cell_type": "code",
   "execution_count": null,
   "id": "bdb044d8",
   "metadata": {},
   "outputs": [],
   "source": [
    "import random\n",
    "\n",
    "random.random()"
   ]
  },
  {
   "cell_type": "markdown",
   "id": "547129e8",
   "metadata": {},
   "source": [
    "Como pedimos que o usuário retornasse um número entra 1 e 300, devemos multiplicar o random.random() por 300 concorda?"
   ]
  },
  {
   "cell_type": "code",
   "execution_count": null,
   "id": "038fdf36",
   "metadata": {},
   "outputs": [],
   "source": [
    "import random\n",
    "\n",
    "(random.random())*300"
   ]
  },
  {
   "cell_type": "markdown",
   "id": "d57e5601",
   "metadata": {},
   "source": [
    "Como pedimos um número inteiro de 1 a 300 precisamos arredondar esse valor encontrado na célula anterior, certo?\n",
    "Para isso iremos fazer uso da função round()."
   ]
  },
  {
   "cell_type": "code",
   "execution_count": null,
   "id": "633755a2",
   "metadata": {},
   "outputs": [],
   "source": [
    "import random\n",
    "\n",
    "round((random.random())*300)"
   ]
  },
  {
   "cell_type": "markdown",
   "id": "c679d710",
   "metadata": {},
   "source": [
    "- Mas como vimos o random.random() retorna um float de 0.0 a 1.0. Ou seja ainda é possível que o número aleatório seja  0.\n",
    "- Para resolver esse problema usaremos a função: randrange(inicio, fim). Mas como essa função randrange não é inclusiva se queremos um número aleatório de 1 a 300 devemos usar: random.range(1, 301)\n",
    "\n",
    "obs: random.randrange(0, 101, 2)                 \n",
    "Even integer from 0 to 100 inclusiv.e"
   ]
  },
  {
   "cell_type": "code",
   "execution_count": null,
   "id": "45daf702",
   "metadata": {},
   "outputs": [],
   "source": [
    "import random\n",
    "\n",
    "random.randrange(1,301)"
   ]
  },
  {
   "cell_type": "code",
   "execution_count": null,
   "id": "7f86d4f4",
   "metadata": {},
   "outputs": [],
   "source": [
    "import random\n",
    "\n",
    "print (\"Bem vindo ao jogo da adivinhação.\")\n",
    "\n",
    "numero_secreto = random.randrange(1,301)\n",
    "numero_de_tentativas = 1\n",
    "\n",
    "print(numero_secreto)\n",
    "\n",
    "while(numero_de_tentativas < 4):\n",
    "\n",
    "    print(f\"***Tentativa número {numero_de_tentativas} de 3***\")\n",
    "    chute = int(input (\"Por favor informe o número de 1 a 300 \"))\n",
    "    print(f\"\\nVocê digitou o número {chute}. \\n\")\n",
    "\n",
    "    if ( chute < 1 or chute >300):\n",
    "        print (\"Número inválido. Por favor informe um número de 1 a 300.\")\n",
    "        continue\n",
    "    elif (chute == numero_secreto):\n",
    "        print(\"Parabéns, resposta Certa! \\n\")\n",
    "        break\n",
    "    elif (chute < numero_secreto):\n",
    "        print(\"Resposta errada.\\nO número a ser adivinhado é maior!\")\n",
    "    else:\n",
    "        print (\"Resposta errada.\\nO número a ser adivinhado é menor!\")\n",
    "    \n",
    "    numero_de_tentativas += 1\n",
    "\n",
    "print(\"\\nFim de Jogo.\")"
   ]
  },
  {
   "cell_type": "markdown",
   "id": "4872c6be",
   "metadata": {},
   "source": [
    "Vamos implementar agora os níveis de dificuldade."
   ]
  },
  {
   "cell_type": "code",
   "execution_count": null,
   "id": "f8047a98",
   "metadata": {},
   "outputs": [],
   "source": [
    "import random\n",
    "\n",
    "print (\"Bem vindo ao jogo da adivinhação.\")\n",
    "\n",
    "numero_secreto = random.randrange(1,301)\n",
    "rodada = 1\n",
    "\n",
    "print (\"Informe o nível de dificuldade que deseja.\")\n",
    "print(\"(1) Fácil    (2) Médio    (3) Difícil\")\n",
    "\n",
    "nivel_de_dificuldade = int(input(\"\\nQual nível de dificuldade que deseja: \"))\n",
    "\n",
    "if(nivel_de_dificuldade == 1):\n",
    "    numero_de_tentativas = 20\n",
    "elif(nivel_de_dificuldade ==2):\n",
    "    numero_de_tentativas = 10\n",
    "else:\n",
    "    numero_de_tentativas = 5\n",
    "\n",
    "while(rodada <= numero_de_tentativas):\n",
    "\n",
    "    print(f\"***Tentativa número {rodada} de {numero_de_tentativas}***\")\n",
    "    chute = int(input (\"Por favor informe o número de 1 a 300 \"))\n",
    "    print(f\"\\nVocê digitou o número {chute}. \\n\")\n",
    "\n",
    "    if ( chute < 1 or chute >300):\n",
    "        print (\"Número inválido. Por favor informe um número de 1 a 300.\")\n",
    "        continue\n",
    "    elif (chute == numero_secreto):\n",
    "        print(\"Parabéns, resposta Certa! \\n\")\n",
    "        break\n",
    "    elif (chute < numero_secreto):\n",
    "        print(\"Resposta errada.\\nO número a ser adivinhado é maior!\")\n",
    "    else:\n",
    "        print (\"Resposta errada.\\nO número a ser adivinhado é menor!\")\n",
    "    \n",
    "    rodada += 1\n",
    "\n",
    "print(\"\\nFim de Jogo.\")\n"
   ]
  },
  {
   "cell_type": "markdown",
   "id": "8f7c5545",
   "metadata": {},
   "source": [
    "- Vamos agora implementar a pontuação do jogo.\n",
    "- Todos iniciam com 1000 pontos. E a cada chute perdem um valor equivalente a: |numero_secreto - chute| (o módulo da subtração entre numero_secreto e chute)"
   ]
  },
  {
   "cell_type": "code",
   "execution_count": null,
   "id": "fa35228d",
   "metadata": {},
   "outputs": [],
   "source": [
    "import random\n",
    "\n",
    "print (\"Bem vindo ao jogo da adivinhação.\")\n",
    "\n",
    "numero_secreto = random.randrange(1,301)\n",
    "rodada = 1\n",
    "pontos = 1000\n",
    "\n",
    "print (\"Informe o nível de dificuldade que deseja.\")\n",
    "print(\"(1) Fácil    (2) Médio    (3) Difícil\")\n",
    "\n",
    "nivel_de_dificuldade = int(input(\"\\nQual nível de dificuldade que deseja: \"))\n",
    "\n",
    "if(nivel_de_dificuldade == 1):\n",
    "    numero_de_tentativas = 20\n",
    "elif(nivel_de_dificuldade ==2):\n",
    "    numero_de_tentativas = 10\n",
    "else:\n",
    "    numero_de_tentativas = 5\n",
    "\n",
    "while(rodada <= numero_de_tentativas):\n",
    "\n",
    "    print(f\"***Tentativa número {rodada} de {numero_de_tentativas}***\")\n",
    "    chute = int(input (\"Por favor informe o número de 1 a 300: \"))\n",
    "    print(f\"\\nVocê digitou o número {chute}. \\n\")\n",
    "\n",
    "    if ( chute < 1 or chute >300):\n",
    "        print (\"Número inválido. Por favor informe um número de 1 a 300.\")\n",
    "        continue\n",
    "    elif (chute == numero_secreto):\n",
    "        print(\"Parabéns, resposta Certa! \\n\")\n",
    "        print(f\"Você fez {pontos} pontos.\")\n",
    "        break\n",
    "    elif (chute < numero_secreto):\n",
    "        print(\"Resposta errada.\\nO número a ser adivinhado é maior!\")\n",
    "    else:\n",
    "        print (\"Resposta errada.\\nO número a ser adivinhado é menor!\")\n",
    "    \n",
    "    rodada += 1\n",
    "    pontos = pontos - chute\n",
    "\n",
    "print(\"\\nFim de Jogo.\")\n",
    "\n"
   ]
  },
  {
   "cell_type": "code",
   "execution_count": null,
   "id": "90c71655",
   "metadata": {},
   "outputs": [],
   "source": []
  }
 ],
 "metadata": {
  "kernelspec": {
   "display_name": "Python 3 (ipykernel)",
   "language": "python",
   "name": "python3"
  },
  "language_info": {
   "codemirror_mode": {
    "name": "ipython",
    "version": 3
   },
   "file_extension": ".py",
   "mimetype": "text/x-python",
   "name": "python",
   "nbconvert_exporter": "python",
   "pygments_lexer": "ipython3",
   "version": "3.11.3"
  }
 },
 "nbformat": 4,
 "nbformat_minor": 5
}
