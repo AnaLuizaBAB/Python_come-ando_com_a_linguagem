{
 "cells": [
  {
   "cell_type": "code",
   "execution_count": null,
   "id": "b2102cfe-6449-49c6-a3cb-361e7b008cad",
   "metadata": {},
   "outputs": [],
   "source": [
    "print (\"Bem vindo ao jogo da adivinhação.\")"
   ]
  },
  {
   "cell_type": "markdown",
   "id": "fcf8cd87",
   "metadata": {},
   "source": [
    "É importante lembrar que o **input** nos devolve um dado do **tipo string**. \n",
    "\n",
    "Então para fazer as comparações será necessário transformar esse dado para o tipo inteiro. Caso contrário mesmo que acertem o numero secreto o programa retornará \"Resposta errada.\" já que estaríamos comparando um dado do tipo string com um dado do tipo int."
   ]
  },
  {
   "cell_type": "code",
   "execution_count": null,
   "id": "237c99a5",
   "metadata": {},
   "outputs": [],
   "source": [
    "numero_secreto = 43\n",
    "\n",
    "chute = int(input (\"Informe o número inteiro positivo: \"))\n",
    "\n",
    "print(f\"Você digitou o número {chute}.\")"
   ]
  },
  {
   "cell_type": "code",
   "execution_count": null,
   "id": "028df93c",
   "metadata": {},
   "outputs": [],
   "source": [
    "if (chute == numero_secreto):\n",
    "    print(\"Parabéns resposta Certa!\")\n",
    "else:\n",
    "    print(\"Resposta errada.\")"
   ]
  },
  {
   "cell_type": "markdown",
   "id": "b5ce2303",
   "metadata": {},
   "source": [
    "#### Testes"
   ]
  },
  {
   "cell_type": "code",
   "execution_count": null,
   "id": "86fa5872",
   "metadata": {},
   "outputs": [],
   "source": [
    "numero1 = 10\n",
    "numero2 = \"20\"\n",
    "soma = numero1 + numero2"
   ]
  },
  {
   "cell_type": "markdown",
   "id": "0b62d3b3",
   "metadata": {},
   "source": [
    "O código acima deu erro porque tentamos somar um inteiro com uma string. E no python isso não é possível."
   ]
  },
  {
   "cell_type": "code",
   "execution_count": null,
   "id": "22ce13c5",
   "metadata": {},
   "outputs": [],
   "source": [
    "numero1 = 10\n",
    "numero2 = \"20\"\n",
    "produto = numero1 * numero2\n",
    "print(produto)"
   ]
  },
  {
   "cell_type": "markdown",
   "id": "8cd88346",
   "metadata": {},
   "source": [
    "Note que no caso acima o python não executou a multiplicação (10 x 20 = 200). Ele nos devolveu o número 20 dez vezes.\n",
    "\n",
    "Agora, na célula a baixo iremos pegar tudo o que já escrevemos de código eadicionar a uma informação ao usuário. Se ele chutou um número maior que o número secreto, ou ele digitou um número menor que o número secreto?"
   ]
  },
  {
   "cell_type": "code",
   "execution_count": null,
   "id": "2357c379",
   "metadata": {},
   "outputs": [],
   "source": [
    "print(\"\\n\\n\")\n",
    "print (\"Bem vindo ao jogo da adivinhação.\")\n",
    "print(\"\\n\\n\")\n",
    "\n",
    "numero_secreto = 43\n",
    "chute = int(input (\"Informe o número inteiro positivo: \"))\n",
    "\n",
    "print(f\"\\n\\nVocê digitou o número {chute}. \\n\")\n",
    "\n",
    "if (chute == numero_secreto):\n",
    "    print(\"Parabéns, resposta Certa! \\n\")\n",
    "elif (chute < numero_secreto):\n",
    "    print(\"Resposta errada.\\nO número a ser adivinhado é maior! \\n\")\n",
    "else:\n",
    "    print (\"Resposta errada.\\nO número a ser adivinhado é menor!\\n\")"
   ]
  },
  {
   "cell_type": "markdown",
   "id": "271f3947",
   "metadata": {},
   "source": [
    "Vamos implementar uma determinada quantidade de tentativas que o jogador pode usar para adivinhar o número secreto. Para isso usaremos o While."
   ]
  },
  {
   "cell_type": "code",
   "execution_count": null,
   "id": "bbbcf958",
   "metadata": {},
   "outputs": [],
   "source": [
    "print (\"Bem vindo ao jogo da adivinhação.\")\n",
    "\n",
    "numero_secreto = 43\n",
    "numero_de_tentativas = 1\n",
    "\n",
    "while(numero_de_tentativas < 4):\n",
    "\n",
    "    print(f\"***Tentativa número {numero_de_tentativas} de 3***\")\n",
    "    chute = int(input (\"Por favor informe o número inteiro positivo: \"))\n",
    "    print(f\"\\nVocê digitou o número {chute}. \\n\")\n",
    "    \n",
    "    if (chute == numero_secreto):\n",
    "        print(\"Parabéns, resposta Certa! \\n\")\n",
    "    elif (chute < numero_secreto):\n",
    "        print(\"Resposta errada.\\nO número a ser adivinhado é maior! \\n\")\n",
    "    else:\n",
    "        print (\"Resposta errada.\\nO número a ser adivinhado é menor!\\n\")\n",
    "    \n",
    "    numero_de_tentativas += 1\n",
    "\n",
    "print(\"\\nFim de Jogo.\")"
   ]
  },
  {
   "cell_type": "markdown",
   "id": "790a17cc",
   "metadata": {},
   "source": [
    "Note que no código da célula acima mesmo que acertem o número secreto na primeira tentativa o programa continua rodando. Vamos resolver esse problema na célula seguinte, fazendo uso do Break."
   ]
  },
  {
   "cell_type": "code",
   "execution_count": null,
   "id": "2ad571d9",
   "metadata": {},
   "outputs": [],
   "source": [
    "print (\"Bem vindo ao jogo da adivinhação.\")\n",
    "\n",
    "numero_secreto = 43\n",
    "numero_de_tentativas = 1\n",
    "\n",
    "while(numero_de_tentativas < 4):\n",
    "\n",
    "    print(f\"***Tentativa número {numero_de_tentativas} de 3***\")\n",
    "    chute = int(input (\"Por favor informe o número inteiro positivo: \"))\n",
    "    print(f\"\\nVocê digitou o número {chute}. \\n\")\n",
    "    \n",
    "    if (chute == numero_secreto):\n",
    "        print(\"Parabéns, resposta Certa! \\n\")\n",
    "        break\n",
    "    elif (chute < numero_secreto):\n",
    "        print(\"Resposta errada.\\nO número a ser adivinhado é maior!\")\n",
    "    else:\n",
    "        print (\"Resposta errada.\\nO número a ser adivinhado é menor!\")\n",
    "    \n",
    "    numero_de_tentativas += 1\n",
    "\n",
    "print(\"\\nFim de Jogo.\")"
   ]
  },
  {
   "cell_type": "code",
   "execution_count": null,
   "id": "726543fa",
   "metadata": {},
   "outputs": [],
   "source": []
  }
 ],
 "metadata": {
  "kernelspec": {
   "display_name": "Python 3 (ipykernel)",
   "language": "python",
   "name": "python3"
  },
  "language_info": {
   "codemirror_mode": {
    "name": "ipython",
    "version": 3
   },
   "file_extension": ".py",
   "mimetype": "text/x-python",
   "name": "python",
   "nbconvert_exporter": "python",
   "pygments_lexer": "ipython3",
   "version": "3.11.3"
  }
 },
 "nbformat": 4,
 "nbformat_minor": 5
}
